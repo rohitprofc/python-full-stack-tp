{
 "cells": [
  {
   "cell_type": "markdown",
   "metadata": {},
   "source": [
    "# Python Full Stack Day 3"
   ]
  },
  {
   "cell_type": "markdown",
   "metadata": {},
   "source": [
    "## Importing Libraries `numpy` `sys` `time`"
   ]
  },
  {
   "cell_type": "code",
   "execution_count": 1,
   "metadata": {},
   "outputs": [],
   "source": [
    "import numpy as np\n",
    "import sys\n",
    "import time"
   ]
  },
  {
   "cell_type": "markdown",
   "metadata": {},
   "source": [
    "## 1-D Array"
   ]
  },
  {
   "cell_type": "code",
   "execution_count": 2,
   "metadata": {},
   "outputs": [
    {
     "name": "stdout",
     "output_type": "stream",
     "text": [
      "[5 1 2 4 3]\n"
     ]
    }
   ],
   "source": [
    "a = np.array([5,1,2,4,3])\n",
    "print(a)"
   ]
  },
  {
   "cell_type": "markdown",
   "metadata": {},
   "source": [
    "## 2-D Array"
   ]
  },
  {
   "cell_type": "code",
   "execution_count": 3,
   "metadata": {},
   "outputs": [
    {
     "name": "stdout",
     "output_type": "stream",
     "text": [
      "[[ 1  2  3]\n",
      " [ 4  5  6]\n",
      " [ 7  8  9]\n",
      " [10 11 12]]\n",
      "(4, 3)\n"
     ]
    }
   ],
   "source": [
    "a=np.array([[1,2,3],[4,5,6],[7,8,9],[10,11,12]])\n",
    "print(a)\n",
    "\n",
    "print(a.shape)"
   ]
  },
  {
   "cell_type": "markdown",
   "metadata": {},
   "source": [
    "## 3-D Array"
   ]
  },
  {
   "cell_type": "code",
   "execution_count": 4,
   "metadata": {},
   "outputs": [
    {
     "name": "stdout",
     "output_type": "stream",
     "text": [
      "[[[ 1  2  3]\n",
      "  [ 4  5  6]]\n",
      "\n",
      " [[ 7  8  9]\n",
      "  [10 11 12]]]\n",
      "(2, 2, 3)\n"
     ]
    }
   ],
   "source": [
    "a=np.array([[[1,2,3],[4,5,6]],[[7,8,9],[10,11,12]]])\n",
    "print(a)\n",
    "\n",
    "print(a.shape)"
   ]
  },
  {
   "cell_type": "markdown",
   "metadata": {},
   "source": [
    "## Attributes of `numpy`"
   ]
  },
  {
   "cell_type": "code",
   "execution_count": 5,
   "metadata": {},
   "outputs": [
    {
     "name": "stdout",
     "output_type": "stream",
     "text": [
      "[1 2 3 4 5]\n",
      "1\n",
      "5\n",
      "int64\n"
     ]
    }
   ],
   "source": [
    "a=np.array([1,2,3,4,5])\n",
    "print(a)\n",
    "\n",
    "print(a.ndim)\n",
    "print(a.size)\n",
    "print(a.dtype)"
   ]
  },
  {
   "cell_type": "markdown",
   "metadata": {},
   "source": [
    "## Numpy array dtype"
   ]
  },
  {
   "cell_type": "markdown",
   "metadata": {},
   "source": [
    "- All elements are treated as strings because arrays can only contain elements of the same type."
   ]
  },
  {
   "cell_type": "code",
   "execution_count": 6,
   "metadata": {},
   "outputs": [
    {
     "name": "stdout",
     "output_type": "stream",
     "text": [
      "['1' '2' '3' 're']\n",
      "<U21\n"
     ]
    }
   ],
   "source": [
    "a=np.array([1,2,3,'re']) \n",
    "print(a)\n",
    "print(a.dtype)"
   ]
  },
  {
   "cell_type": "markdown",
   "metadata": {},
   "source": [
    "## Typecasting in numpy array"
   ]
  },
  {
   "cell_type": "code",
   "execution_count": 7,
   "metadata": {},
   "outputs": [
    {
     "name": "stdout",
     "output_type": "stream",
     "text": [
      "[1 4 5 6] int64\n",
      "[1. 4. 5. 6.] float64\n",
      "['1' '4' '5' '6'] <U21\n"
     ]
    }
   ],
   "source": [
    "import numpy as np\n",
    "\n",
    "a=np.array([1,4,5,6])\n",
    "print(a, a.dtype)\n",
    "\n",
    "b=a.astype('float64') #converting int to float\n",
    "c=a.astype('<U21') #converting int to string\n",
    "\n",
    "print(b, b.dtype)\n",
    "print(c, c.dtype)"
   ]
  },
  {
   "cell_type": "markdown",
   "metadata": {},
   "source": [
    "## Numpy Array vs List - Performance"
   ]
  },
  {
   "cell_type": "markdown",
   "metadata": {},
   "source": [
    "### Space Comparision"
   ]
  },
  {
   "cell_type": "code",
   "execution_count": 8,
   "metadata": {},
   "outputs": [
    {
     "name": "stdout",
     "output_type": "stream",
     "text": [
      "[1 4 5 6]\n",
      "Element size in numpy array: 8\n",
      "Total size of numpy array: 4\n",
      "Total numpy array bit size is 32\n",
      "[1, 4, 5, 6]\n",
      "Element size in list: 88\n",
      "Total size of list: 4\n",
      "Total numpy array bit size is 352\n"
     ]
    }
   ],
   "source": [
    "a=np.array([1,4,5,6])\n",
    "print(a)\n",
    "\n",
    "ele_size_array = a.itemsize\n",
    "print(f\"Element size in numpy array: {ele_size_array}\")\n",
    "\n",
    "array_size = a.size\n",
    "print(f\"Total size of numpy array: {array_size}\")\n",
    "\n",
    "total_array_size = ele_size_array * array_size\n",
    "print(f\"Total numpy array bit size is {total_array_size}\")\n",
    "\n",
    "b=[1,4,5,6]\n",
    "print(b)\n",
    "\n",
    "ele_size_list = sys.getsizeof(b)\n",
    "print(f\"Element size in list: {ele_size_list}\")\n",
    "\n",
    "list_size = len(b)\n",
    "print(f\"Total size of list: {list_size}\")\n",
    "\n",
    "total_list_size = ele_size_list * list_size\n",
    "print(f\"Total numpy array bit size is {total_list_size}\")"
   ]
  },
  {
   "cell_type": "markdown",
   "metadata": {},
   "source": [
    "### Time Comparision"
   ]
  },
  {
   "cell_type": "code",
   "execution_count": 9,
   "metadata": {},
   "outputs": [
    {
     "name": "stdout",
     "output_type": "stream",
     "text": [
      "Time: 1720179503.575391\n",
      "List multiplication time: 0.0\n",
      "Multiplication of array: 0.001007080078125\n"
     ]
    }
   ],
   "source": [
    "SIZE = 10\n",
    "\n",
    "#declaring two lists with range\n",
    "l1 = range(SIZE)\n",
    "l2 = range(SIZE)\n",
    "\n",
    "#delcaring array\n",
    "arr1 = np.arange(SIZE)\n",
    "arr2 = np.arange(SIZE)\n",
    "\n",
    "#Time\n",
    "initial_t = time.time()\n",
    "print(f\"Time: {initial_t}\")\n",
    "\n",
    "l3 = [(a*b) for a,b in zip(l1,l2)]\n",
    "print(f\"List multiplication time: {time.time()-initial_t}\")\n",
    "initial_t = time.time()\n",
    "\n",
    "arr3 = arr2 * arr1\n",
    "print(f\"Multiplication of array: {time.time()-initial_t}\")"
   ]
  },
  {
   "cell_type": "markdown",
   "metadata": {},
   "source": [
    "## Addition feature in numpy array"
   ]
  },
  {
   "cell_type": "code",
   "execution_count": 10,
   "metadata": {},
   "outputs": [
    {
     "name": "stdout",
     "output_type": "stream",
     "text": [
      "[45, 51, 96]\n",
      "[ 54  60 105]\n"
     ]
    }
   ],
   "source": [
    "a = [45, 51, 96]\n",
    "#a = a + 4  #In list it is not possible\n",
    "print(a)\n",
    "\n",
    "ar = np.array(a)\n",
    "ar = ar + 9\n",
    "print(ar)"
   ]
  },
  {
   "cell_type": "markdown",
   "metadata": {},
   "source": [
    "## `linspace` and `random` functions in numpy"
   ]
  },
  {
   "cell_type": "code",
   "execution_count": 11,
   "metadata": {},
   "outputs": [
    {
     "name": "stdout",
     "output_type": "stream",
     "text": [
      "(array([1. , 1.4, 1.8, 2.2, 2.6]), np.float64(0.4))\n",
      "[[0.53617318 0.37747626 0.09245323]\n",
      " [0.98772987 0.06223268 0.46241188]\n",
      " [0.44452147 0.23721233 0.04121373]\n",
      " [0.08102842 0.09189385 0.76116631]]\n"
     ]
    }
   ],
   "source": [
    "ab = np.linspace(1, 3, 5, endpoint=False, retstep=True)\n",
    "print(ab)\n",
    "\n",
    "b = np.random.random((4,3))\n",
    "print(b)"
   ]
  },
  {
   "cell_type": "markdown",
   "metadata": {},
   "source": [
    "## Array Slicing"
   ]
  },
  {
   "cell_type": "code",
   "execution_count": 12,
   "metadata": {},
   "outputs": [
    {
     "name": "stdout",
     "output_type": "stream",
     "text": [
      "[1 2 3 4 5 6 7]\n",
      "[3 4 5]\n",
      "[1 2 3 4]\n",
      "[7 6]\n",
      "[5 6]\n",
      "[1 3 5]\n",
      "[3 4 5]\n",
      "[1 3 5 7]\n"
     ]
    }
   ],
   "source": [
    "a = [1, 2, 3, 4, 5, 6, 7]\n",
    "b = np.array(a) #convert list to array\n",
    "\n",
    "print(b)\n",
    "type(b)\n",
    "\n",
    "print(b[2:5])\n",
    "print(b[:4])\n",
    "print(b[-1:-3:-1])\n",
    "print(b[-3:-1])\n",
    "print(b[0:5:2])\n",
    "print(b[2:5])\n",
    "print(b[::2])"
   ]
  },
  {
   "cell_type": "markdown",
   "metadata": {},
   "source": [
    "## 2-D and 3-D Arrays"
   ]
  },
  {
   "cell_type": "code",
   "execution_count": 13,
   "metadata": {},
   "outputs": [
    {
     "name": "stdout",
     "output_type": "stream",
     "text": [
      "2D-Array\n",
      "[[17 44]\n",
      " [43 19]\n",
      " [43 12]\n",
      " [10 33]\n",
      " [16 32]\n",
      " [34 14]]\n",
      "---------------------------------\n",
      "3D Array-2,1,6\n",
      "[[[17 44 43 19 43 12]]\n",
      "\n",
      " [[10 33 16 32 34 14]]]\n",
      "---------------------------------\n"
     ]
    }
   ],
   "source": [
    "print(\"2D-Array\")\n",
    "a = np.array(np.random.randint(10, 45,(6,2)))\n",
    "print(a)\n",
    "\n",
    "print(\"---------------------------------\")\n",
    "\n",
    "print(\"3D Array-2,1,6\")\n",
    "n = (2, 1, 6) #3D\n",
    "print(np.reshape(a, n))\n",
    "\n",
    "print(\"---------------------------------\")"
   ]
  },
  {
   "cell_type": "markdown",
   "metadata": {},
   "source": [
    "## Reshape"
   ]
  },
  {
   "cell_type": "code",
   "execution_count": 14,
   "metadata": {},
   "outputs": [
    {
     "name": "stdout",
     "output_type": "stream",
     "text": [
      "3D Array-3,2,2\n",
      "[[[17 44]\n",
      "  [43 19]]\n",
      "\n",
      " [[43 12]\n",
      "  [10 33]]\n",
      "\n",
      " [[16 32]\n",
      "  [34 14]]]\n"
     ]
    }
   ],
   "source": [
    "print(\"3D Array-3,2,2\")\n",
    "n = (3, 2, 2)\n",
    "print(np.reshape(a, n))"
   ]
  },
  {
   "cell_type": "markdown",
   "metadata": {},
   "source": [
    "## Resize"
   ]
  },
  {
   "cell_type": "code",
   "execution_count": 15,
   "metadata": {},
   "outputs": [
    {
     "name": "stdout",
     "output_type": "stream",
     "text": [
      "[[5 1 4]\n",
      " [5 9 6]]\n",
      "-----------------------\n",
      "[[5 1 4 5]]\n",
      "-----------------------\n",
      "[[5]\n",
      " [1]\n",
      " [4]\n",
      " [5]\n",
      " [9]\n",
      " [6]]\n"
     ]
    }
   ],
   "source": [
    "a = np.array([[5,1], [4,5], [9,6]]) #2D Array\n",
    "\n",
    "print(np.resize(a, (2,3)))\n",
    "print(\"-----------------------\")\n",
    "print(np.resize(a, (1,4)))\n",
    "print(\"-----------------------\")\n",
    "print(np.resize(a, (6,1)))"
   ]
  },
  {
   "cell_type": "markdown",
   "metadata": {},
   "source": [
    "## `Flatten` method in numpy"
   ]
  },
  {
   "cell_type": "code",
   "execution_count": 16,
   "metadata": {},
   "outputs": [
    {
     "name": "stdout",
     "output_type": "stream",
     "text": [
      "[[1 4 7]\n",
      " [2 5 8]\n",
      " [3 6 9]]\n",
      "---------------------------\n",
      "[1 4 7 2 5 8 3 6 9]\n",
      "---------------------------\n",
      "[1 2 3 4 5 6 7 8 9]\n"
     ]
    }
   ],
   "source": [
    "a = np.array([[1,4,7], [2,5,8], [3,6,9]])\n",
    "print(a)\n",
    "\n",
    "print(\"---------------------------\")\n",
    "\n",
    "print(a.flatten())\n",
    "\n",
    "print(\"---------------------------\")\n",
    "\n",
    "#Row Major\n",
    "print(a.flatten('F'))"
   ]
  },
  {
   "cell_type": "markdown",
   "metadata": {},
   "source": [
    "## Matices in numpy"
   ]
  },
  {
   "cell_type": "code",
   "execution_count": 17,
   "metadata": {},
   "outputs": [
    {
     "name": "stdout",
     "output_type": "stream",
     "text": [
      "[[0. 0. 0.]\n",
      " [0. 0. 0.]\n",
      " [0. 0. 0.]\n",
      " [0. 0. 0.]]\n",
      "[[1. 1. 1. 1. 1.]\n",
      " [1. 1. 1. 1. 1.]\n",
      " [1. 1. 1. 1. 1.]]\n",
      "[[1. 0. 0. 0.]\n",
      " [0. 1. 0. 0.]\n",
      " [0. 0. 1. 0.]\n",
      " [0. 0. 0. 1.]]\n",
      "[[30 30 30]\n",
      " [30 30 30]\n",
      " [30 30 30]]\n",
      "[[30 30 30]\n",
      " [30 30 30]\n",
      " [30 30 30]]\n"
     ]
    }
   ],
   "source": [
    "print(np.zeros((4,3)))\n",
    "print(np.ones((3,5)))\n",
    "print(np.identity(4))\n",
    "\n",
    "#print 30 in 3x3\n",
    "print(np.ones((3,3), dtype=int)*30)\n",
    "\n",
    "#other way\n",
    "print(np.random.randint(30,31,(3,3)))"
   ]
  },
  {
   "cell_type": "markdown",
   "metadata": {},
   "source": [
    "## Copy and View Array"
   ]
  },
  {
   "cell_type": "code",
   "execution_count": 18,
   "metadata": {},
   "outputs": [
    {
     "name": "stdout",
     "output_type": "stream",
     "text": [
      "[11 22 33 44 55]\n",
      "[11 22 33 44 55]\n",
      "[11 22 33 90 55]\n"
     ]
    }
   ],
   "source": [
    "a = np.array([11,22,33,44,55])\n",
    "print(a)\n",
    "\n",
    "#copy array\n",
    "b = a.copy()\n",
    "print(b)\n",
    "\n",
    "#replacing values\n",
    "b[3] = 90\n",
    "print(b)"
   ]
  },
  {
   "cell_type": "markdown",
   "metadata": {},
   "source": [
    "## Inserting element in array"
   ]
  },
  {
   "cell_type": "markdown",
   "metadata": {},
   "source": [
    "- **Syntax:** `insert(array, index, value, axis)`\n",
    "    - axis - 0 for row\n",
    "    - axis - 1 for column"
   ]
  },
  {
   "cell_type": "code",
   "execution_count": 19,
   "metadata": {},
   "outputs": [
    {
     "name": "stdout",
     "output_type": "stream",
     "text": [
      "[[38 10 44 17 36 49 36 44 11 38]]\n",
      "[38 10 44 17 51 36 49 36 44 11 38]\n",
      "[[11 38 12]\n",
      " [33 19 31]\n",
      " [ 0  0  0]\n",
      " [29 17 25]]\n",
      "[[15 40  0  6]\n",
      " [33 31  0 32]\n",
      " [ 3 19  0 41]]\n"
     ]
    }
   ],
   "source": [
    "a = np.array(np.random.randint(0,51,(1,10)))\n",
    "print(a)\n",
    "\n",
    "print(np.insert(a,4,51))\n",
    "\n",
    "#for 2D array\n",
    "\n",
    "a = np.array(np.random.randint(0,51,(3,3)))\n",
    "print(np.insert(a,2,0,0)) #for whole row\n",
    "\n",
    "a = np.array(np.random.randint(0,51,(3,3)))\n",
    "print(np.insert(a,2,0,1)) #for whole column"
   ]
  },
  {
   "cell_type": "markdown",
   "metadata": {},
   "source": [
    "## Arithmetic operations in numpy"
   ]
  },
  {
   "cell_type": "code",
   "execution_count": 20,
   "metadata": {},
   "outputs": [],
   "source": [
    "arr1 = np.array([10, 11, 12, 13, 14, 15])\n",
    "arr2 = np.array([20, 21, 22, 23, 24, 25])"
   ]
  },
  {
   "cell_type": "markdown",
   "metadata": {},
   "source": [
    "### Addition"
   ]
  },
  {
   "cell_type": "code",
   "execution_count": 21,
   "metadata": {},
   "outputs": [
    {
     "name": "stdout",
     "output_type": "stream",
     "text": [
      "[30 32 34 36 38 40]\n"
     ]
    }
   ],
   "source": [
    "print(np.add(arr1, arr2))"
   ]
  },
  {
   "cell_type": "markdown",
   "metadata": {},
   "source": [
    "### Subtract"
   ]
  },
  {
   "cell_type": "code",
   "execution_count": 22,
   "metadata": {},
   "outputs": [
    {
     "name": "stdout",
     "output_type": "stream",
     "text": [
      "[-10 -10 -10 -10 -10 -10]\n"
     ]
    }
   ],
   "source": [
    "print(np.subtract(arr1, arr2))"
   ]
  },
  {
   "cell_type": "markdown",
   "metadata": {},
   "source": [
    "### Multiply"
   ]
  },
  {
   "cell_type": "code",
   "execution_count": 23,
   "metadata": {},
   "outputs": [
    {
     "name": "stdout",
     "output_type": "stream",
     "text": [
      "[200 231 264 299 336 375]\n"
     ]
    }
   ],
   "source": [
    "print(np.multiply(arr1, arr2))"
   ]
  },
  {
   "cell_type": "markdown",
   "metadata": {},
   "source": [
    "### Divide"
   ]
  },
  {
   "cell_type": "code",
   "execution_count": 24,
   "metadata": {},
   "outputs": [
    {
     "name": "stdout",
     "output_type": "stream",
     "text": [
      "[0.5        0.52380952 0.54545455 0.56521739 0.58333333 0.6       ]\n"
     ]
    }
   ],
   "source": [
    "print(np.divide(arr1, arr2))"
   ]
  },
  {
   "cell_type": "markdown",
   "metadata": {},
   "source": [
    "### Sum"
   ]
  },
  {
   "cell_type": "code",
   "execution_count": 25,
   "metadata": {},
   "outputs": [
    {
     "name": "stdout",
     "output_type": "stream",
     "text": [
      "75\n",
      "75\n"
     ]
    }
   ],
   "source": [
    "print(np.sum(arr1))\n",
    "print(np.sum(arr1, axis=0))"
   ]
  },
  {
   "cell_type": "markdown",
   "metadata": {},
   "source": [
    "### Min and Max"
   ]
  },
  {
   "cell_type": "code",
   "execution_count": 26,
   "metadata": {},
   "outputs": [
    {
     "name": "stdout",
     "output_type": "stream",
     "text": [
      "10\n",
      "15\n"
     ]
    }
   ],
   "source": [
    "print(np.min(arr1))\n",
    "print(np.max(arr1))"
   ]
  },
  {
   "cell_type": "markdown",
   "metadata": {},
   "source": [
    "### Mean"
   ]
  },
  {
   "cell_type": "code",
   "execution_count": 27,
   "metadata": {},
   "outputs": [
    {
     "name": "stdout",
     "output_type": "stream",
     "text": [
      "12.5\n"
     ]
    }
   ],
   "source": [
    "print(np.mean(arr1))"
   ]
  },
  {
   "cell_type": "markdown",
   "metadata": {},
   "source": [
    "### Sorting"
   ]
  },
  {
   "cell_type": "code",
   "execution_count": 28,
   "metadata": {},
   "outputs": [
    {
     "name": "stdout",
     "output_type": "stream",
     "text": [
      "[10 11 12 13 14 15]\n",
      "[15 14 13 12 11 10]\n"
     ]
    }
   ],
   "source": [
    "print(np.sort(arr1)) #ascending\n",
    "print(-np.sort(-arr1)) #decending"
   ]
  }
 ],
 "metadata": {
  "kernelspec": {
   "display_name": "Python 3",
   "language": "python",
   "name": "python3"
  },
  "language_info": {
   "codemirror_mode": {
    "name": "ipython",
    "version": 3
   },
   "file_extension": ".py",
   "mimetype": "text/x-python",
   "name": "python",
   "nbconvert_exporter": "python",
   "pygments_lexer": "ipython3",
   "version": "3.12.2"
  }
 },
 "nbformat": 4,
 "nbformat_minor": 2
}
