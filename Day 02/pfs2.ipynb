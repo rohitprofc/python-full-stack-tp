{
 "cells": [
  {
   "cell_type": "markdown",
   "metadata": {},
   "source": [
    "# Python Full Stack Day 2"
   ]
  },
  {
   "cell_type": "markdown",
   "metadata": {},
   "source": [
    "## Occurence of element"
   ]
  },
  {
   "cell_type": "code",
   "execution_count": 1,
   "metadata": {},
   "outputs": [
    {
     "name": "stdout",
     "output_type": "stream",
     "text": [
      "[2, 2, 2, 1, 1, 5]\n",
      "{2: 3, 1: 2, 5: 1}\n"
     ]
    }
   ],
   "source": [
    "l=int(input(\"Enter length of list::\"))\n",
    "a=[]\n",
    "count={}\n",
    "\n",
    "for i in range(0,l+1):\n",
    "    i=int(input(f\"Enter the element {i+1}::\"))\n",
    "    a.append(i)\n",
    "\n",
    "print(a)\n",
    "\n",
    "for element in a:\n",
    "    if element in count:\n",
    "        count[element] +=1\n",
    "    else:\n",
    "        count[element] =1\n",
    "\n",
    "print(count)"
   ]
  },
  {
   "cell_type": "markdown",
   "metadata": {},
   "source": [
    "## Inheritance"
   ]
  },
  {
   "cell_type": "markdown",
   "metadata": {},
   "source": [
    "- **Inheritance** is a mechanism that allows a class to inherit properties and behaviors from another class.\n",
    "\n",
    "- Access properties from parent class(*super class*) *to* child class(*sub class*)"
   ]
  },
  {
   "cell_type": "markdown",
   "metadata": {},
   "source": [
    "### Single Inheritance"
   ]
  },
  {
   "cell_type": "markdown",
   "metadata": {},
   "source": [
    "- A *single derived class* is inherited from a *single base class* is known as the **Single Inheritance**."
   ]
  },
  {
   "cell_type": "code",
   "execution_count": 2,
   "metadata": {},
   "outputs": [
    {
     "name": "stdout",
     "output_type": "stream",
     "text": [
      "Parent Class\n",
      "Child Class\n"
     ]
    }
   ],
   "source": [
    "class demo: #parent class\n",
    "    def dp(self):\n",
    "        print(\"Parent Class\")\n",
    "\n",
    "class demo1(demo): #child class\n",
    "    def dc(self):\n",
    "        print(\"Child Class\")\n",
    "\n",
    "d = demo1() #creating object of child class\n",
    "d.dp()\n",
    "d.dc()"
   ]
  },
  {
   "cell_type": "markdown",
   "metadata": {},
   "source": [
    "#### Coding Practice 1"
   ]
  },
  {
   "cell_type": "markdown",
   "metadata": {},
   "source": [
    "##### Basic calculator"
   ]
  },
  {
   "cell_type": "code",
   "execution_count": 3,
   "metadata": {},
   "outputs": [
    {
     "name": "stdout",
     "output_type": "stream",
     "text": [
      "addition: 9\n"
     ]
    }
   ],
   "source": [
    "class addAndSub:\n",
    "    def add(self,a,b):\n",
    "        print(\"addition:\", a+b)\n",
    "    def sub(self,a,b):\n",
    "        print(\"subtraction:\", a-b)\n",
    "\n",
    "class mulAndDiv:\n",
    "    def mul(self,a,b):\n",
    "        print(\"multiplication:\", a*b)\n",
    "    def div(self,a,b):\n",
    "        print(\"division\", a/b)\n",
    "\n",
    "class calculator(addAndSub ,mulAndDiv):\n",
    "    pass\n",
    "\n",
    "c=calculator()\n",
    "\n",
    "ch=int(input(\"Enter the choice 1.sum/ 2.sub/ 3.mul/ 4.div ::\"))\n",
    "if ch==1:\n",
    "    a,b=map(int,input(\"Enter a b values: \").split())\n",
    "    c.add(a,b)\n",
    "elif ch==2:\n",
    "    a,b=map(int,input(\"Enter a b values: \").split())\n",
    "    c.sub(a,b)\n",
    "elif ch==3:\n",
    "    a,b=map(int,input(\"Enter a b values: \").split())\n",
    "    c.mul(a,b)\n",
    "elif ch==4:\n",
    "    a,b=map(int,input(\"Enter a b values: \").split())\n",
    "    c.div(a,b)\n",
    "else:\n",
    "    print(\"invalid\")"
   ]
  },
  {
   "cell_type": "markdown",
   "metadata": {},
   "source": [
    "##### Using match function"
   ]
  },
  {
   "cell_type": "code",
   "execution_count": 4,
   "metadata": {},
   "outputs": [
    {
     "name": "stdout",
     "output_type": "stream",
     "text": [
      "multiplication: 20\n"
     ]
    }
   ],
   "source": [
    "ch=int(input(\"Enter the choice 1.sum/ 2.sub/ 3.mul/ 4.div ::\"))\n",
    "match(ch):\n",
    "    case 1:\n",
    "        a,b=map(int,input(\"Enter a b values\").split())\n",
    "        c.add(a,b)\n",
    "    case 2:\n",
    "        a,b=map(int,input(\"Enter a b values\").split())\n",
    "        c.sub(a,b)\n",
    "    case 3:\n",
    "        a,b=map(int,input(\"Enter a b values\").split())\n",
    "        c.mul(a,b)\n",
    "    case 4:\n",
    "        a,b=map(int,input(\"Enter a b values\").split())\n",
    "        c.div(a,b)\n",
    "    case _: #default case\n",
    "        print(\"invalid\")"
   ]
  },
  {
   "cell_type": "markdown",
   "metadata": {},
   "source": [
    "#### Coding Practice 2"
   ]
  },
  {
   "cell_type": "markdown",
   "metadata": {},
   "source": [
    "##### ATM Transaction"
   ]
  },
  {
   "cell_type": "code",
   "execution_count": 5,
   "metadata": {},
   "outputs": [
    {
     "name": "stdout",
     "output_type": "stream",
     "text": [
      "=================================================\n",
      "Credited succesfully\n",
      "Balance amount is 14500.0\n",
      "=================================================\n",
      "Debited succesfully\n",
      "Balance amount is 12500.0\n",
      "=================================================\n"
     ]
    }
   ],
   "source": [
    "class cdm: #cash deposit machine\n",
    "    def __init__(self,bal):\n",
    "        self.bal=bal\n",
    "    \n",
    "    def credit(self):\n",
    "        amt=float(input(\"Enter amount to credit::\"))\n",
    "        self.bal+=amt\n",
    "        print(\"Credited succesfully\")\n",
    "        print(\"Balance amount is\",self.bal)\n",
    "\n",
    "class atm(cdm): #automated teller machine\n",
    "    def debit(self):\n",
    "        amt=float(input(\"Enter amount to debit::\"))\n",
    "        \n",
    "        if amt>self.bal:\n",
    "            print(\"Unsufficient balance\")\n",
    "        else:\n",
    "            self.bal-=amt\n",
    "            print(\"Debited succesfully\")\n",
    "            print(\"Balance amount is\",self.bal)\n",
    "\n",
    "a=atm(10000)\n",
    "while(True):\n",
    "    print(\"=================================================\")\n",
    "    ch=int(input(\"enter choice 1.credit/ 2.Debit/ 3.exit:: \"))\n",
    "    if ch==1:\n",
    "        a.credit()\n",
    "    elif ch==2:\n",
    "        a.debit()\n",
    "    else:\n",
    "        break"
   ]
  },
  {
   "cell_type": "markdown",
   "metadata": {},
   "source": [
    "### Multi-Level Inheritance"
   ]
  },
  {
   "cell_type": "markdown",
   "metadata": {},
   "source": [
    "- *A derived class inherits from another derived class*, forming a chain is known as **Multi-Level Inheritance**."
   ]
  },
  {
   "cell_type": "code",
   "execution_count": 6,
   "metadata": {},
   "outputs": [
    {
     "name": "stdout",
     "output_type": "stream",
     "text": [
      "Grand Parent\n",
      "Parent\n",
      "Child\n",
      "Grand Child\n"
     ]
    }
   ],
   "source": [
    "class grandParent:\n",
    "    def gp(self):\n",
    "        print(\"Grand Parent\")\n",
    "\n",
    "class parent(grandParent):\n",
    "    def pp(self):\n",
    "        print(\"Parent\")\n",
    "\n",
    "class child(parent):\n",
    "    def cc(self):\n",
    "        print(\"Child\")\n",
    "\n",
    "class grandChild(child):\n",
    "    def gc(self):\n",
    "        print(\"Grand Child\")\n",
    "\n",
    "g = grandChild()\n",
    "g.gp() \n",
    "g.pp() \n",
    "g.cc() \n",
    "g.gc() "
   ]
  },
  {
   "cell_type": "markdown",
   "metadata": {},
   "source": [
    "#### Coding Practice 1"
   ]
  },
  {
   "cell_type": "code",
   "execution_count": 7,
   "metadata": {},
   "outputs": [
    {
     "name": "stdout",
     "output_type": "stream",
     "text": [
      "Employee\n",
      "Manager\n",
      "HR\n",
      "CEO\n"
     ]
    }
   ],
   "source": [
    "class ceo:\n",
    "    def cc(self):\n",
    "        print(\"CEO\")\n",
    "class hr(ceo):\n",
    "    def hr(self):\n",
    "        print(\"HR\")\n",
    "class man(hr):\n",
    "    def mn(self):\n",
    "        print(\"Manager\")\n",
    "class emp(man):\n",
    "    def em(self):\n",
    "        print(\"Employee\")\n",
    "\n",
    "e=emp()\n",
    "e.em()\n",
    "e.mn()\n",
    "e.hr()\n",
    "e.cc()"
   ]
  },
  {
   "cell_type": "markdown",
   "metadata": {},
   "source": [
    "#### Coding Practice 2"
   ]
  },
  {
   "cell_type": "code",
   "execution_count": 8,
   "metadata": {},
   "outputs": [
    {
     "name": "stdout",
     "output_type": "stream",
     "text": [
      "Class Teacher\n",
      "HoD\n",
      "Vice Principal\n",
      "Principal\n",
      "College\n"
     ]
    }
   ],
   "source": [
    "class college:\n",
    "    def cg(self):\n",
    "        print(\"College\")\n",
    "class principal(college):\n",
    "    def pr(self):\n",
    "        print(\"Principal\")\n",
    "class vicePrincipal(principal):\n",
    "    def vp(self):\n",
    "        print(\"Vice Principal\")\n",
    "class hod(vicePrincipal):\n",
    "    def hd(self):\n",
    "        print(\"HoD\")\n",
    "class classTeacher(hod):\n",
    "    def ct(self):\n",
    "        print(\"Class Teacher\")\n",
    "        \n",
    "s=classTeacher()\n",
    "s.ct()\n",
    "s.hd()\n",
    "s.vp()\n",
    "s.pr()\n",
    "s.cg()"
   ]
  },
  {
   "cell_type": "markdown",
   "metadata": {},
   "source": [
    "### Multiple Inheritance"
   ]
  },
  {
   "cell_type": "markdown",
   "metadata": {},
   "source": [
    "- A *class* that *inherit properties and methods from more than one parent class* is known as **Multiple Inheritance**."
   ]
  },
  {
   "cell_type": "code",
   "execution_count": 9,
   "metadata": {},
   "outputs": [
    {
     "name": "stdout",
     "output_type": "stream",
     "text": [
      "Son\n",
      "Mother\n",
      "Father\n"
     ]
    }
   ],
   "source": [
    "class mother:\n",
    "    def mt(self):\n",
    "        print(\"Mother\")\n",
    "\n",
    "class father:\n",
    "    def ft(self):\n",
    "        print(\"Father\")\n",
    "\n",
    "class son(mother, father):\n",
    "    def sn(self):\n",
    "        print(\"Son\")\n",
    "\n",
    "s = son()\n",
    "s.sn()\n",
    "s.mt()\n",
    "s.ft()"
   ]
  },
  {
   "cell_type": "markdown",
   "metadata": {},
   "source": [
    "#### Coding Practice"
   ]
  },
  {
   "cell_type": "code",
   "execution_count": 10,
   "metadata": {},
   "outputs": [
    {
     "name": "stdout",
     "output_type": "stream",
     "text": [
      "I'm Employee of Goldmann Saches\n",
      "Employee Name: Rohit\n",
      "Age: 20\n",
      "Salary: 100000\n",
      "Experience: 2years\n"
     ]
    }
   ],
   "source": [
    "class emp:\n",
    "    def em(self, name, age):\n",
    "        print(f\"Employee Name: {name}\\nAge: {age}\")\n",
    "\n",
    "class work:\n",
    "    def wr(self, sal, exp):\n",
    "        print(f\"Salary: {sal}\\nExperience: {exp}years\")\n",
    "\n",
    "class demo(emp, work):\n",
    "    def data(self):\n",
    "        print(\"I'm Employee of Goldmann Saches\")\n",
    "\n",
    "e=demo()\n",
    "e.data()\n",
    "e.em('Rohit',20)\n",
    "e.wr(100000,2)"
   ]
  },
  {
   "cell_type": "markdown",
   "metadata": {},
   "source": [
    "### Hybrid Inheritance"
   ]
  },
  {
   "cell_type": "markdown",
   "metadata": {},
   "source": [
    "- A *combination of two or more types of inheritance* is known as **Hybrid Inheritance**."
   ]
  },
  {
   "cell_type": "code",
   "execution_count": 11,
   "metadata": {},
   "outputs": [
    {
     "name": "stdout",
     "output_type": "stream",
     "text": [
      "Hybrid Inheritance\n",
      "Name:Rohit Roll:5451 Dept:AI&DS\n",
      "Dept:AI&DS Strength:675\n",
      "Principal:B.Karuna Kumar\n",
      "HoD:Bannu-AI&DS\n",
      "College:SRGEC Location:Gudlavalleru Code:48\n"
     ]
    }
   ],
   "source": [
    "class college:\n",
    "    def clg(self, name, city, code):\n",
    "        print(f\"College:{name} Location:{city} Code:{code}\")\n",
    "\n",
    "class dept(college): #single inheritance\n",
    "    def dd(self, name, total):\n",
    "        print(f\"Dept:{name} Strength:{total}\")\n",
    "\n",
    "class principle:\n",
    "    def pp(self, name):\n",
    "        print(f\"Principal:{name}\")\n",
    "\n",
    "class hod(principle):\n",
    "    def hh(self, name, dept):\n",
    "        print(f\"HoD:{name}-{dept}\")\n",
    "\n",
    "class student(hod): #multi-level inheritance\n",
    "    def ss(self, name, roll, dept):\n",
    "        print(f\"Name:{name} Roll:{roll} Dept:{dept}\")\n",
    "\n",
    "class demo(student,dept): #multiple inheritance\n",
    "    def dm(self):\n",
    "        print(\"Hybrid Inheritance\")\n",
    "\n",
    "d = demo()\n",
    "d.dm()\n",
    "d.ss(\"Rohit\",5451,\"AI&DS\")\n",
    "d.dd(\"AI&DS\", 675)\n",
    "d.pp(\"B.Karuna Kumar\")\n",
    "d.hh(\"Bannu\",\"AI&DS\")\n",
    "d.clg(\"SRGEC\",\"Gudlavalleru\",48)"
   ]
  },
  {
   "cell_type": "markdown",
   "metadata": {},
   "source": [
    "## Method Overloading"
   ]
  },
  {
   "cell_type": "markdown",
   "metadata": {},
   "source": [
    "- A class to have *multiple methods with the same name* but *different parameters* is known as **Method Overloading**."
   ]
  },
  {
   "cell_type": "code",
   "execution_count": 12,
   "metadata": {},
   "outputs": [
    {
     "name": "stdout",
     "output_type": "stream",
     "text": [
      "15\n",
      "RohitChess\n"
     ]
    }
   ],
   "source": [
    "class demo:\n",
    "    def add(self, a, b):\n",
    "        print(a+b)\n",
    "    \n",
    "class demo1(demo):\n",
    "    def add(self, a, b):\n",
    "        print(a+b)\n",
    "    \n",
    "d=demo1()\n",
    "d.add(9,6)\n",
    "d.add('Rohit','Chess')"
   ]
  },
  {
   "cell_type": "markdown",
   "metadata": {},
   "source": [
    "## Method Overriding"
   ]
  },
  {
   "cell_type": "markdown",
   "metadata": {},
   "source": [
    "-  A *subclass to provide a different implementation* of a method that is *already defined in its superclass* is known as <br> **Method Overriding**."
   ]
  },
  {
   "cell_type": "code",
   "execution_count": 13,
   "metadata": {},
   "outputs": [
    {
     "name": "stdout",
     "output_type": "stream",
     "text": [
      "12\n",
      "19.2\n"
     ]
    }
   ],
   "source": [
    "class demo:\n",
    "    def add(self, a, b):\n",
    "        return a+b\n",
    "    \n",
    "class demo1(demo):\n",
    "    def add(self, a, b):\n",
    "        return (a+b)*2\n",
    "    \n",
    "d=demo1()\n",
    "print(d.add(5,1))\n",
    "print(d.add(4.3,5.3))"
   ]
  },
  {
   "cell_type": "markdown",
   "metadata": {},
   "source": [
    "## Error and Exception Handling"
   ]
  },
  {
   "cell_type": "markdown",
   "metadata": {},
   "source": [
    "- **Error Handling**: Managing errors that might occur during a program's execution.\n",
    "\n",
    "- **Exception Handling**: Managing errors that occur during a program's execution, It is more specific."
   ]
  },
  {
   "cell_type": "code",
   "execution_count": 14,
   "metadata": {},
   "outputs": [
    {
     "name": "stdout",
     "output_type": "stream",
     "text": [
      "Addition: 18\n",
      "Zero Division Error\n",
      "Multiplication: 0\n"
     ]
    }
   ],
   "source": [
    "a = 18\n",
    "b = 0\n",
    "\n",
    "print(f\"Addition: {a+b}\")\n",
    "\n",
    "try:\n",
    "    print(f\"Division: {a/b}\")\n",
    "except:\n",
    "    print(\"Zero Division Error\")\n",
    "\n",
    "print(f\"Multiplication: {a*b}\")"
   ]
  },
  {
   "cell_type": "markdown",
   "metadata": {},
   "source": [
    "## Linear Search"
   ]
  },
  {
   "cell_type": "code",
   "execution_count": 15,
   "metadata": {},
   "outputs": [
    {
     "name": "stdout",
     "output_type": "stream",
     "text": [
      "Found 4 at 6th position\n"
     ]
    }
   ],
   "source": [
    "a = [23, 56, 67, 89, 2, 4, 7, 101, 890]\n",
    "\n",
    "for i in a:\n",
    "    if i==4:\n",
    "        print(f\"Found {i} at {a.index(i)+1}th position\")"
   ]
  },
  {
   "cell_type": "markdown",
   "metadata": {},
   "source": [
    "## Average of list"
   ]
  },
  {
   "cell_type": "code",
   "execution_count": 16,
   "metadata": {},
   "outputs": [
    {
     "name": "stdout",
     "output_type": "stream",
     "text": [
      "137.66666666666666\n"
     ]
    }
   ],
   "source": [
    "a = [23, 56, 67, 89, 2, 4, 7, 101, 890]\n",
    "print(sum(a)/len(a))"
   ]
  },
  {
   "cell_type": "markdown",
   "metadata": {},
   "source": [
    "## Descending order"
   ]
  },
  {
   "cell_type": "code",
   "execution_count": 17,
   "metadata": {},
   "outputs": [
    {
     "name": "stdout",
     "output_type": "stream",
     "text": [
      "[890, 101, 89, 67, 56, 23, 7, 4, 2]\n"
     ]
    }
   ],
   "source": [
    "a = [23, 56, 67, 89, 2, 4, 7, 101, 890]\n",
    "a.sort(reverse=True)\n",
    "print(a)"
   ]
  },
  {
   "cell_type": "markdown",
   "metadata": {},
   "source": [
    "## Adult Count & Child Count"
   ]
  },
  {
   "cell_type": "code",
   "execution_count": 18,
   "metadata": {},
   "outputs": [
    {
     "name": "stdout",
     "output_type": "stream",
     "text": [
      "Adults: [45, 34, 90, 45, 21, 20]\n",
      "Adult count: 6\n",
      "Childs: [12, 15, 18, 12, 14, 11]\n",
      "Child count: 6\n"
     ]
    }
   ],
   "source": [
    "age = [45, 12, 34, 15, 18, 90, 45, 12, 14, 11, 21, 20]\n",
    "\n",
    "adult_list, child_list = [], []\n",
    "child_count, adult_count = 0, 0\n",
    "\n",
    "for i in age:\n",
    "    if i<=18:\n",
    "        child_list.append(i)\n",
    "        child_count += 1\n",
    "    else:\n",
    "        adult_list.append(i)\n",
    "        adult_count += 1\n",
    "\n",
    "print(f\"Adults: {adult_list}\\nAdult count: {adult_count}\")\n",
    "print(f\"Childs: {child_list}\\nChild count: {child_count}\")"
   ]
  },
  {
   "cell_type": "markdown",
   "metadata": {},
   "source": [
    "## Even Odd Seperation"
   ]
  },
  {
   "cell_type": "code",
   "execution_count": 19,
   "metadata": {},
   "outputs": [
    {
     "name": "stdout",
     "output_type": "stream",
     "text": [
      "Even List: [12, 34, 18, 90, 12, 14, 20]\n",
      "Odd List: [45, 15, 45, 11, 21]\n"
     ]
    }
   ],
   "source": [
    "l = [45, 12, 34, 15, 18, 90, 45, 12, 14, 11, 21, 20]\n",
    "even_list = []\n",
    "odd_list = []\n",
    "\n",
    "for i in l:\n",
    "    if i%2==0:\n",
    "        even_list.append(i)\n",
    "    else:\n",
    "        odd_list.append(i)\n",
    "\n",
    "print(f\"Even List: {even_list}\")\n",
    "print(f\"Odd List: {odd_list}\")"
   ]
  },
  {
   "cell_type": "markdown",
   "metadata": {},
   "source": [
    "## Sorting without `sort()` function"
   ]
  },
  {
   "cell_type": "markdown",
   "metadata": {},
   "source": [
    "**Bubble Sort**"
   ]
  },
  {
   "cell_type": "code",
   "execution_count": 20,
   "metadata": {},
   "outputs": [
    {
     "name": "stdout",
     "output_type": "stream",
     "text": [
      "[1, 2, 3, 4, 5]\n"
     ]
    }
   ],
   "source": [
    "l = [5, 1, 4, 2, 3]\n",
    "\n",
    "for i in range(len(l)):\n",
    "    for j in range(0,len(l)-1-i):\n",
    "        if l[j]>l[j+1]:\n",
    "            l[j],l[j+1]=l[j+1],l[j]\n",
    "\n",
    "print(l)"
   ]
  }
 ],
 "metadata": {
  "kernelspec": {
   "display_name": "Python 3",
   "language": "python",
   "name": "python3"
  },
  "language_info": {
   "codemirror_mode": {
    "name": "ipython",
    "version": 3
   },
   "file_extension": ".py",
   "mimetype": "text/x-python",
   "name": "python",
   "nbconvert_exporter": "python",
   "pygments_lexer": "ipython3",
   "version": "3.12.2"
  }
 },
 "nbformat": 4,
 "nbformat_minor": 2
}
