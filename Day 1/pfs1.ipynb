{
 "cells": [
  {
   "cell_type": "markdown",
   "metadata": {},
   "source": [
    "# Python Full Stack Day 1"
   ]
  },
  {
   "cell_type": "code",
   "execution_count": 9,
   "metadata": {},
   "outputs": [
    {
     "name": "stdout",
     "output_type": "stream",
     "text": [
      "Hello, World!\n"
     ]
    }
   ],
   "source": [
    "print(\"Hello, World!\")"
   ]
  },
  {
   "cell_type": "markdown",
   "metadata": {},
   "source": [
    "## Classes & Objects"
   ]
  },
  {
   "cell_type": "markdown",
   "metadata": {},
   "source": [
    "- **Class:** A class is a template that defines the variables and methods for a specific type of object.\n",
    "\n",
    "- **Object:** An object can be defined as a data field that has unique attributes and behavior."
   ]
  },
  {
   "cell_type": "markdown",
   "metadata": {},
   "source": [
    "- **Note:** To access member functions through object we need `self` as the default parameter"
   ]
  },
  {
   "cell_type": "code",
   "execution_count": 10,
   "metadata": {},
   "outputs": [
    {
     "name": "stdout",
     "output_type": "stream",
     "text": [
      "---------------------\n",
      "Roll : 51 | AI&DS\n",
      "Name : Rohit | SRGEC\n",
      "Phone: 9494214912\n",
      "City : Eluru\n",
      "---------------------\n",
      "---------------------\n",
      "Roll : 15 | AI&DS\n",
      "Name : Rushi | SRGEC\n",
      "Phone: 9494064572\n",
      "City : H.Junction\n",
      "---------------------\n"
     ]
    }
   ],
   "source": [
    "class student: #class\n",
    "    college = 'SRGEC' #class member\n",
    "    branch = 'AI&DS'\n",
    "    \n",
    "    def info(self, id, name, phone, city): #member function\n",
    "        print(\"---------------------\")\n",
    "        print(f\"Roll : {id} | {student.branch}\")\n",
    "        print(f\"Name : {name} | {student.college}\")\n",
    "        print(f\"Phone: {phone}\")\n",
    "        print(f\"City : {city}\")\n",
    "        print(\"---------------------\")\n",
    "\n",
    "r1 = student() #object1\n",
    "r1.info(51, 'Rohit', 9494214912, 'Eluru')\n",
    "\n",
    "r2 = student() #object2\n",
    "r2.info(15, 'Rushi', 9494064572, 'H.Junction')"
   ]
  },
  {
   "cell_type": "markdown",
   "metadata": {},
   "source": [
    "#### Coding Practice"
   ]
  },
  {
   "cell_type": "code",
   "execution_count": 11,
   "metadata": {},
   "outputs": [
    {
     "name": "stdout",
     "output_type": "stream",
     "text": [
      "---------------\n",
      "Brand: Toyota\n",
      "Name : Innova Crysta\n",
      "Color: White\n",
      "Price: $30,000\n",
      "---------------\n",
      "---------------\n",
      "Brand: Suzuki\n",
      "Name : Swift Dzire\n",
      "Color: Silver\n",
      "Price: $12,000\n",
      "---------------\n",
      "---------------\n",
      "Brand: Tata\n",
      "Name : Harrier\n",
      "Color: White\n",
      "Price: $27,000\n",
      "---------------\n",
      "---------------\n",
      "Brand: Mercedes Benz\n",
      "Name : GLS 200d\n",
      "Color: Black\n",
      "Price: $90,000\n",
      "---------------\n",
      "---------------\n",
      "Brand: Morris Garages\n",
      "Name : Hector Plus\n",
      "Color: Red\n",
      "Price: $27,000\n",
      "---------------\n"
     ]
    }
   ],
   "source": [
    "class car:\n",
    "    def info(self, name, color, price, brand):\n",
    "        print(\"---------------\")\n",
    "        print(f\"Brand: {brand}\")\n",
    "        print(f\"Name : {name}\")\n",
    "        print(f\"Color: {color}\")\n",
    "        print(f\"Price: {price}\")\n",
    "        print(\"---------------\")\n",
    "\n",
    "a = car()\n",
    "a.info('Innova Crysta', 'White', '$30,000', 'Toyota')\n",
    "\n",
    "b = car()\n",
    "b.info('Swift Dzire', 'Silver', '$12,000', 'Suzuki')\n",
    "\n",
    "c = car()\n",
    "c.info('Harrier', 'White', '$27,000', 'Tata')\n",
    "\n",
    "d = car()\n",
    "d.info('GLS 200d', 'Black', '$90,000', 'Mercedes Benz')\n",
    "\n",
    "e = car()\n",
    "e.info('Hector Plus', 'Red', '$27,000', 'Morris Garages')"
   ]
  },
  {
   "cell_type": "markdown",
   "metadata": {},
   "source": [
    "## Constructor"
   ]
  },
  {
   "cell_type": "markdown",
   "metadata": {},
   "source": [
    "- A constructor is a special initialization function that is automatically called whenever an object is created.\n",
    "\n",
    "- Initialization of constructor `__init__()`\n",
    "\n",
    "- **Two types is constructor:**\n",
    "    - default constructor\n",
    "    - parameterized constructor"
   ]
  },
  {
   "cell_type": "code",
   "execution_count": 12,
   "metadata": {},
   "outputs": [
    {
     "name": "stdout",
     "output_type": "stream",
     "text": [
      "constructor calling\n",
      "method calling\n",
      "constructor calling\n"
     ]
    }
   ],
   "source": [
    "class book():\n",
    "    def __init__(self): #default constructor\n",
    "        print(\"constructor calling\")\n",
    "    \n",
    "    def normal(self):\n",
    "        print(\"method calling\")\n",
    "\n",
    "a = book()\n",
    "a.normal()\n",
    "b = book()"
   ]
  },
  {
   "cell_type": "markdown",
   "metadata": {},
   "source": [
    "#### Coding Practice 1"
   ]
  },
  {
   "cell_type": "code",
   "execution_count": 13,
   "metadata": {},
   "outputs": [
    {
     "name": "stdout",
     "output_type": "stream",
     "text": [
      "------------------------------------\n",
      "Id    : 1\n",
      "Name  : The Girl in Room 105\n",
      "Price : $2.19\n",
      "Author: Chetan Bhagat\n",
      "------------------------------------\n",
      "------------------------------------\n",
      "Id    : 2\n",
      "Name  : Power of Subconcious Mind\n",
      "Price : $1.69\n",
      "Author: Paul Joseph\n",
      "------------------------------------\n",
      "------------------------------------\n",
      "Id    : 3\n",
      "Name  : One Night @ Call Center\n",
      "Price : $1.99\n",
      "Author: Chetan Bhagat\n",
      "------------------------------------\n",
      "------------------------------------\n",
      "Id    : 4\n",
      "Name  : Vennello Aadapilla\n",
      "Price : $0.99\n",
      "Author: Yandamoori Veerendranadh\n",
      "------------------------------------\n",
      "------------------------------------\n",
      "Id    : 5\n",
      "Name  : Idly, Orchid and Will Power\n",
      "Price : $3.69\n",
      "Author: Vital Kamath\n",
      "------------------------------------\n"
     ]
    }
   ],
   "source": [
    "class book():\n",
    "    def __init__(self, id, name, price, author): #paramaterized constructor\n",
    "        self.id = id\n",
    "        self.name = name\n",
    "        self.price = price\n",
    "        self.author = author\n",
    "\n",
    "    def display(self):\n",
    "        print(\"------------------------------------\")\n",
    "        print(f\"Id    : {self.id}\")\n",
    "        print(f\"Name  : {self.name}\")\n",
    "        print(f\"Price : {self.price}\")\n",
    "        print(f\"Author: {self.author}\")\n",
    "        print(\"------------------------------------\")\n",
    "\n",
    "b1 = book(1, 'The Girl in Room 105', '$2.19', 'Chetan Bhagat')\n",
    "b1.display()\n",
    "\n",
    "b2 = book(2, 'Power of Subconcious Mind', '$1.69', 'Paul Joseph')\n",
    "b2.display()\n",
    "\n",
    "b3 = book(3, 'One Night @ Call Center', '$1.99', 'Chetan Bhagat')\n",
    "b3.display()\n",
    "\n",
    "b4 = book(4, 'Vennello Aadapilla', '$0.99', 'Yandamoori Veerendranadh')\n",
    "b4.display()\n",
    "\n",
    "b5 = book(5, 'Idly, Orchid and Will Power', '$3.69', 'Vital Kamath')\n",
    "b5.display()"
   ]
  },
  {
   "cell_type": "markdown",
   "metadata": {},
   "source": [
    "#### Coding Practice 2"
   ]
  },
  {
   "cell_type": "code",
   "execution_count": 14,
   "metadata": {},
   "outputs": [
    {
     "name": "stdout",
     "output_type": "stream",
     "text": [
      "--------------------------\n",
      "Id    : 1\n",
      "Name  : Rohit\n",
      "Salary: $51,000\n",
      "Job   : SDE\n",
      "--------------------------\n",
      "--------------------------\n",
      "Id    : 2\n",
      "Name  : Sowmya\n",
      "Salary: $45,000\n",
      "Job   : Full Stack Developer\n",
      "--------------------------\n",
      "--------------------------\n",
      "Id    : 3\n",
      "Name  : Jaswanth\n",
      "Salary: $57,000\n",
      "Job   : Data Scientist\n",
      "--------------------------\n",
      "--------------------------\n",
      "Id    : 4\n",
      "Name  : Rushi\n",
      "Salary: $300,000\n",
      "Job   : Business Analyst\n",
      "--------------------------\n",
      "--------------------------\n",
      "Id    : 5\n",
      "Name  : Kavya\n",
      "Salary: $22,000\n",
      "Job   : Data Engineer\n",
      "--------------------------\n",
      "--------------------------\n",
      "Id    : 6\n",
      "Name  : Goutham\n",
      "Salary: $51,000\n",
      "Job   : SDE\n",
      "--------------------------\n",
      "--------------------------\n",
      "Id    : 7\n",
      "Name  : Tapaswi\n",
      "Salary: $22,000\n",
      "Job   : Data Engineer\n",
      "--------------------------\n",
      "--------------------------\n",
      "Id    : 8\n",
      "Name  : Shagun\n",
      "Salary: $100,000\n",
      "Job   : Graphic Designer\n",
      "--------------------------\n",
      "--------------------------\n",
      "Id    : 9\n",
      "Name  : Pramod\n",
      "Salary: $69,000\n",
      "Job   : Social Media Analyst\n",
      "--------------------------\n",
      "--------------------------\n",
      "Id    : 10\n",
      "Name  : Caroline\n",
      "Salary: $70,000\n",
      "Job   : Server Engineer\n",
      "--------------------------\n"
     ]
    }
   ],
   "source": [
    "class employee():\n",
    "    def __init__(self, id, name, salary, job): #paramaterized constructor\n",
    "        self.id = id\n",
    "        self.name = name\n",
    "        self.salary = salary\n",
    "        self.job = job\n",
    "\n",
    "    def display(self):\n",
    "        print(\"--------------------------\")\n",
    "        print(f\"Id    : {self.id}\")\n",
    "        print(f\"Name  : {self.name}\")\n",
    "        print(f\"Salary: {self.salary}\")\n",
    "        print(f\"Job   : {self.job}\")\n",
    "        print(\"--------------------------\")\n",
    "\n",
    "r1 = employee(1, 'Rohit', '$51,000', 'SDE')\n",
    "r1.display()\n",
    "\n",
    "s = employee(2, 'Sowmya', '$45,000', 'Full Stack Developer')\n",
    "s.display()\n",
    "\n",
    "j = employee(3, 'Jaswanth', '$57,000', 'Data Scientist')\n",
    "j.display()\n",
    "\n",
    "r2 = employee(4, 'Rushi', '$300,000', 'Business Analyst')\n",
    "r2.display()\n",
    "\n",
    "k = employee(5, 'Kavya', '$22,000', 'Data Engineer')\n",
    "k.display()\n",
    "\n",
    "g = employee(6, 'Goutham', '$51,000', 'SDE')\n",
    "g.display()\n",
    "\n",
    "t = employee(7, 'Tapaswi', '$22,000', 'Data Engineer')\n",
    "t.display()\n",
    "\n",
    "sh = employee(8, 'Shagun', '$100,000', 'Graphic Designer')\n",
    "sh.display()\n",
    "\n",
    "p = employee(9, 'Pramod', '$69,000', 'Social Media Analyst')\n",
    "p.display()\n",
    "\n",
    "c = employee(10, 'Caroline', '$70,000', 'Server Engineer')\n",
    "c.display()"
   ]
  },
  {
   "cell_type": "markdown",
   "metadata": {},
   "source": [
    "## Random series"
   ]
  },
  {
   "cell_type": "markdown",
   "metadata": {},
   "source": [
    "    7, 15, 24, 34, 45, 57..."
   ]
  },
  {
   "cell_type": "code",
   "execution_count": 15,
   "metadata": {},
   "outputs": [
    {
     "name": "stdout",
     "output_type": "stream",
     "text": [
      "7\n",
      "15\n",
      "24\n",
      "34\n",
      "45\n",
      "57\n",
      "70\n",
      "84\n"
     ]
    }
   ],
   "source": [
    "sum = 0\n",
    "for i in range(7,15):\n",
    "    sum+=i\n",
    "    print(sum)"
   ]
  },
  {
   "cell_type": "markdown",
   "metadata": {},
   "source": [
    "*range(7,15) - here 7 is initial value, 15 is last step value*"
   ]
  },
  {
   "cell_type": "markdown",
   "metadata": {},
   "source": [
    "## Even index element"
   ]
  },
  {
   "cell_type": "code",
   "execution_count": 16,
   "metadata": {},
   "outputs": [
    {
     "name": "stdout",
     "output_type": "stream",
     "text": [
      "11\n",
      "99\n",
      "59\n",
      "45\n",
      "89\n",
      "33\n"
     ]
    }
   ],
   "source": [
    "a = [11, 22, 99, 78, 59, 44, 45, 88, 89, 56, 33]\n",
    "\n",
    "for i in (a[::2]):\n",
    "    print(i)"
   ]
  }
 ],
 "metadata": {
  "kernelspec": {
   "display_name": "Python 3",
   "language": "python",
   "name": "python3"
  },
  "language_info": {
   "codemirror_mode": {
    "name": "ipython",
    "version": 3
   },
   "file_extension": ".py",
   "mimetype": "text/x-python",
   "name": "python",
   "nbconvert_exporter": "python",
   "pygments_lexer": "ipython3",
   "version": "3.12.2"
  }
 },
 "nbformat": 4,
 "nbformat_minor": 2
}
